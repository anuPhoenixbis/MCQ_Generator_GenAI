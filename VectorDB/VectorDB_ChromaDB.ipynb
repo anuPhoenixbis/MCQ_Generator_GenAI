{
 "cells": [
  {
   "cell_type": "code",
   "execution_count": 1,
   "id": "431f369a",
   "metadata": {},
   "outputs": [
    {
     "name": "stdout",
     "output_type": "stream",
     "text": [
      "Note: you may need to restart the kernel to use updated packages.\n"
     ]
    },
    {
     "name": "stderr",
     "output_type": "stream",
     "text": [
      "ERROR: Could not install packages due to an OSError: [WinError 32] The process cannot access the file because it is being used by another process: 'C:\\\\Users\\\\anubh\\\\AppData\\\\Local\\\\Packages\\\\PythonSoftwareFoundation.Python.3.11_qbz5n2kfra8p0\\\\LocalCache\\\\local-packages\\\\Python311\\\\site-packages\\\\onnxruntime\\\\tools\\\\ort_format_model\\\\ort_flatbuffers_py\\\\fbs\\\\Dimension.py'\n",
      "Check the permissions.\n",
      "\n",
      "\n",
      "[notice] A new release of pip is available: 25.0.1 -> 25.1.1\n",
      "[notice] To update, run: C:\\Users\\anubh\\AppData\\Local\\Microsoft\\WindowsApps\\PythonSoftwareFoundation.Python.3.11_qbz5n2kfra8p0\\python.exe -m pip install --upgrade pip\n"
     ]
    }
   ],
   "source": [
    "%pip install langchain tiktoken chromadb langchain-nvidia-ai-endpoints -U -q"
   ]
  },
  {
   "cell_type": "code",
   "execution_count": 2,
   "id": "f670f9c9",
   "metadata": {},
   "outputs": [
    {
     "name": "stdout",
     "output_type": "stream",
     "text": [
      "Note: you may need to restart the kernel to use updated packages.\n"
     ]
    },
    {
     "name": "stderr",
     "output_type": "stream",
     "text": [
      "\n",
      "[notice] A new release of pip is available: 25.0.1 -> 25.1.1\n",
      "[notice] To update, run: C:\\Users\\anubh\\AppData\\Local\\Microsoft\\WindowsApps\\PythonSoftwareFoundation.Python.3.11_qbz5n2kfra8p0\\python.exe -m pip install --upgrade pip\n"
     ]
    }
   ],
   "source": [
    "%pip install langchain_community openai -U -q"
   ]
  },
  {
   "cell_type": "code",
   "execution_count": 1,
   "id": "1db3ee14",
   "metadata": {},
   "outputs": [
    {
     "name": "stdout",
     "output_type": "stream",
     "text": [
      "Name: chromadb\n",
      "Version: 1.0.15\n",
      "Summary: Chroma.\n",
      "Home-page: https://github.com/chroma-core/chroma\n",
      "Author: \n",
      "Author-email: Jeff Huber <jeff@trychroma.com>, Anton Troynikov <anton@trychroma.com>\n",
      "License: \n",
      "Location: C:\\Users\\anubh\\AppData\\Local\\Packages\\PythonSoftwareFoundation.Python.3.11_qbz5n2kfra8p0\\LocalCache\\local-packages\\Python311\\site-packages\n",
      "Requires: bcrypt, build, grpcio, httpx, importlib-resources, jsonschema, kubernetes, mmh3, numpy, onnxruntime, opentelemetry-api, opentelemetry-exporter-otlp-proto-grpc, opentelemetry-sdk, orjson, overrides, posthog, pybase64, pydantic, pypika, pyyaml, rich, tenacity, tokenizers, tqdm, typer, typing-extensions, uvicorn\n",
      "Required-by: \n",
      "Note: you may need to restart the kernel to use updated packages.\n"
     ]
    }
   ],
   "source": [
    "%pip show chromadb"
   ]
  },
  {
   "cell_type": "code",
   "execution_count": 3,
   "id": "4fbf923a",
   "metadata": {},
   "outputs": [
    {
     "name": "stderr",
     "output_type": "stream",
     "text": [
      "  % Total    % Received % Xferd  Average Speed   Time    Time     Time  Current\n",
      "                                 Dload  Upload   Total   Spent    Left  Speed\n",
      "\n",
      "  0     0    0     0    0     0      0      0 --:--:-- --:--:-- --:--:--     0\n",
      "  0     0    0     0    0     0      0      0 --:--:-- --:--:-- --:--:--     0\n",
      "100   124  100   124    0     0    120      0  0:00:01  0:00:01 --:--:--   120\n",
      "\n",
      "100    17  100    17    0     0     10      0  0:00:01  0:00:01 --:--:--    10\n",
      "100    17  100    17    0     0     10      0  0:00:01  0:00:01 --:--:--     0\n",
      "\n",
      "  0     0    0     0    0     0      0      0 --:--:--  0:00:03 --:--:--     0\n",
      "100   470    0   470    0     0    146      0 --:--:--  0:00:03 --:--:--  2919\n",
      "\n",
      "  0     0    0     0    0     0      0      0 --:--:--  0:00:03 --:--:--     0\n",
      "100 79974  100 79974    0     0  20743      0  0:00:03  0:00:03 --:--:--  373k\n"
     ]
    }
   ],
   "source": [
    "!curl -L -o new_articles.zip https://www.dropbox.com/s/vs6ocyvpzzncvwh/new_articles.zip"
   ]
  },
  {
   "cell_type": "code",
   "execution_count": 5,
   "id": "fce5aecf",
   "metadata": {},
   "outputs": [],
   "source": [
    "import zipfile\n",
    "with zipfile.ZipFile(\"new_articles.zip\", \"r\") as zip_ref:\n",
    "    zip_ref.extractall(\"new_articles\")"
   ]
  },
  {
   "cell_type": "code",
   "execution_count": 1,
   "id": "f1bc5dbe",
   "metadata": {},
   "outputs": [
    {
     "data": {
      "text/plain": [
       "True"
      ]
     },
     "execution_count": 1,
     "metadata": {},
     "output_type": "execute_result"
    }
   ],
   "source": [
    "import os\n",
    "from dotenv import load_dotenv\n",
    "load_dotenv()"
   ]
  },
  {
   "cell_type": "code",
   "execution_count": 2,
   "id": "8a24d721",
   "metadata": {},
   "outputs": [],
   "source": [
    "NVIDIA_KEY = os.getenv(\"NVIDIA_API_KEY\")\n",
    "OPENROUTER_KEY = os.getenv(\"OPENROUTER_KEY\")"
   ]
  },
  {
   "cell_type": "code",
   "execution_count": 3,
   "id": "1b5707c8",
   "metadata": {},
   "outputs": [],
   "source": [
    "from langchain_community.vectorstores import Chroma\n",
    "from langchain_nvidia_ai_endpoints import NVIDIAEmbeddings\n",
    "from langchain_community.document_loaders import TextLoader , DirectoryLoader\n",
    "from langchain_nvidia_ai_endpoints import ChatNVIDIA\n",
    "from openai import OpenAI\n"
   ]
  },
  {
   "cell_type": "code",
   "execution_count": 4,
   "id": "70877cbd",
   "metadata": {},
   "outputs": [],
   "source": [
    "def OpenRouterChat(query):\n",
    "    client = OpenAI(\n",
    "    base_url=\"https://openrouter.ai/api/v1\",\n",
    "    api_key=OPENROUTER_KEY,\n",
    "    )\n",
    "    completion = client.chat.completions.create(\n",
    "    model=\"deepseek/deepseek-r1:free\",\n",
    "    messages=[\n",
    "        {\n",
    "        \"role\": \"user\",\n",
    "        \"content\": query\n",
    "        }\n",
    "    ]\n",
    "    )\n",
    "    return completion.choices[0].message.content"
   ]
  },
  {
   "cell_type": "code",
   "execution_count": 5,
   "id": "7e51de36",
   "metadata": {},
   "outputs": [],
   "source": [
    "def NVIDIAChat(query):\n",
    "    client = ChatNVIDIA(\n",
    "    model=\"deepseek-ai/deepseek-r1\",\n",
    "    api_key=NVIDIA_KEY, \n",
    "    temperature=0.6,\n",
    "    top_p=0.7,\n",
    "    max_tokens=4096,\n",
    "    )\n",
    "    response = client.invoke(\n",
    "        [\n",
    "            {\n",
    "                \"role\": \"user\",\n",
    "                \"content\": query\n",
    "            }\n",
    "        ]\n",
    "    )\n",
    "    return response.content"
   ]
  },
  {
   "cell_type": "code",
   "execution_count": 6,
   "id": "aa9130c8",
   "metadata": {},
   "outputs": [
    {
     "name": "stdout",
     "output_type": "stream",
     "text": [
      "On rainy days, taking precautions can ensure safety, health, and comfort. Here’s a structured guide:\n",
      "\n",
      "### **1. Clothing & Personal Safety**\n",
      "- **Waterproof Gear:** Wear a raincoat, waterproof jacket, or carry a sturdy umbrella. Opt for quick-dry fabrics.\n",
      "- **Footwear:** Use anti-slip, closed-toe shoes or boots to avoid slips and fungal infections.\n",
      "- **Visibility:** Wear bright or reflective clothing if walking/biking to stay visible to drivers.\n",
      "\n",
      "### **2. Travel Precautions**\n",
      "- **Driving:** \n",
      "  - Reduce speed, maintain a safe distance, and avoid sudden braking.\n",
      "  - Ensure windshield wipers, headlights, and tires are functional.\n",
      "  - Avoid flooded roads; even shallow water can stall engines.\n",
      "- **Walking:** \n",
      "  - Steer clear of puddles (hidden hazards like open drains or debris).\n",
      "  - Avoid isolated trees, poles, or downed power lines (lightning risk).\n",
      "\n",
      "### **3. Home Safety**\n",
      "- **Drainage:** Clean gutters and drains to prevent waterlogging.\n",
      "- **Flood Prevention:** Use sandbags if prone to flooding; secure outdoor furniture.\n",
      "- **Electrical Safety:** Unplug devices if flooding is likely. Avoid touching switches/wires with wet hands.\n",
      "\n",
      "### **4. Health Considerations**\n",
      "- **Stay Dry:** Change clothes immediately if soaked to prevent hypothermia or infections.\n",
      "- **Hydration:** Drink warm fluids (e.g., herbal tea) to maintain body temperature.\n",
      "- **Avoid Risks:** Don’t wade through floodwater (contaminated water risks).\n",
      "\n",
      "### **5. Emergency Preparedness**\n",
      "- **Communication:** Keep phones charged and emergency contacts handy.\n",
      "- **Weather Updates:** Monitor forecasts for storms or floods.\n",
      "- **Emergency Kit:** Include a flashlight, first-aid supplies, and non-perishable food.\n",
      "\n",
      "### **6. Public Spaces & Nature**\n",
      "- **Avoid Floodwaters:** Never drive or walk through moving water; 6 inches can sweep you away.\n",
      "- **Riverbanks/Lakes:** Steer clear of swollen bodies of water due to flash floods.\n",
      "\n",
      "### **7. Additional Tips**\n",
      "- **Indoor Safety:** Use anti-slip mats to prevent falls.\n",
      "- **Check on Others:** Assist vulnerable neighbors (elderly, disabled).\n",
      "- **Pests:** Seal home entry points to keep out insects or rodents seeking shelter.\n",
      "\n",
      "By combining preparedness with mindfulness, rainy days can be navigated safely and comfortably. 🌧️\n"
     ]
    }
   ],
   "source": [
    "print(OpenRouterChat(\"What are the precautions we should take on a rainy day?\"))"
   ]
  },
  {
   "cell_type": "code",
   "execution_count": 7,
   "id": "e95d914c",
   "metadata": {},
   "outputs": [
    {
     "data": {
      "text/plain": [
       "'\\nApparently NVIDIA API is not working at the moment, so I am using OpenRouter API.\\n'"
      ]
     },
     "execution_count": 7,
     "metadata": {},
     "output_type": "execute_result"
    }
   ],
   "source": [
    "# print(NVIDIAChat(\"What are the precautions we should take on a rainy day?\"))\n",
    "\"\"\"\n",
    "Apparently NVIDIA API is not working at the moment, so I am using OpenRouter API.\n",
    "\"\"\""
   ]
  },
  {
   "cell_type": "code",
   "execution_count": 10,
   "id": "80ca1a17",
   "metadata": {},
   "outputs": [],
   "source": [
    "loader = DirectoryLoader(\n",
    "    \"new_articles\",\n",
    "    glob=\"**/*.txt\",\n",
    "    loader_cls=TextLoader,\n",
    "    loader_kwargs={\"encoding\": \"utf-8\"},\n",
    "    show_progress=True\n",
    ")\n",
    "#loading all the news articles from the directory"
   ]
  },
  {
   "cell_type": "code",
   "execution_count": 11,
   "id": "febe710c",
   "metadata": {},
   "outputs": [
    {
     "name": "stderr",
     "output_type": "stream",
     "text": []
    },
    {
     "name": "stderr",
     "output_type": "stream",
     "text": [
      "100%|██████████| 21/21 [00:00<00:00, 60.89it/s]\n"
     ]
    }
   ],
   "source": [
    "document = loader.load()"
   ]
  },
  {
   "cell_type": "code",
   "execution_count": 12,
   "id": "10f81e44",
   "metadata": {},
   "outputs": [],
   "source": [
    "#splitting into text chunks\n",
    "from langchain.text_splitter import RecursiveCharacterTextSplitter\n",
    "text_splitter = RecursiveCharacterTextSplitter(\n",
    "    chunk_size=1000,\n",
    "    chunk_overlap=200,\n",
    "    length_function=len\n",
    ")\n",
    "text = text_splitter.split_documents(document)"
   ]
  },
  {
   "cell_type": "markdown",
   "id": "d07377ac",
   "metadata": {},
   "source": [
    "# Creating DB"
   ]
  },
  {
   "cell_type": "code",
   "execution_count": null,
   "id": "02b15999",
   "metadata": {},
   "outputs": [
    {
     "name": "stderr",
     "output_type": "stream",
     "text": [
      "C:\\Users\\anubh\\AppData\\Local\\Temp\\ipykernel_31368\\95557075.py:20: LangChainDeprecationWarning: Since Chroma 0.4.x the manual persistence method is no longer supported as docs are automatically persisted.\n",
      "  vectorstore.persist()\n"
     ]
    }
   ],
   "source": [
    "# Creating DB using NVIDIA embeddings and Chroma vector store\n",
    "from langchain_nvidia_ai_endpoints import NVIDIAEmbeddings\n",
    "\n",
    "embedding = NVIDIAEmbeddings(\n",
    "  model=\"NV-Embed-QA\", \n",
    "  api_key=NVIDIA_KEY\n",
    "  )\n",
    "\n",
    "# embeddings = embedding.embed_query(\"hello world\")\n",
    "\n",
    "from langchain_community.vectorstores import Chroma\n",
    "\n",
    "\n",
    "vectorstore = Chroma.from_documents(\n",
    "    documents=text,\n",
    "    embedding=embedding,\n",
    "    persist_directory=\"./nvidia_chroma_db\"\n",
    ")\n",
    "\n",
    "vectorstore.persist()"
   ]
  },
  {
   "cell_type": "markdown",
   "id": "3bec3d40",
   "metadata": {},
   "source": [
    "# Retriever"
   ]
  },
  {
   "cell_type": "code",
   "execution_count": 20,
   "id": "15daa08a",
   "metadata": {},
   "outputs": [],
   "source": [
    "retriever = vectorstore.as_retriever()\n",
    "# Retriever function to query the vector database\n",
    "# This function takes a query string and returns relevant documents from the vector database\n",
    "def query_vector_db(query):\n",
    "    results = retriever.get_relevant_documents(query)\n",
    "    return results\n",
    "\n",
    "# Example query\n",
    "query = \"How AI will be the next Apex Intelligence?\"\n",
    "results = query_vector_db(query)"
   ]
  },
  {
   "cell_type": "code",
   "execution_count": 30,
   "id": "13c9e828",
   "metadata": {},
   "outputs": [
    {
     "name": "stdout",
     "output_type": "stream",
     "text": [
      "Slack has evolved from a pure communications platform to one that enables companies to link directly to enterprise applications without having to resort to dreaded task switching. Today, at the Salesforce World Tour event in NYC, the company announced the next step in its platform’s evolution where it will be putting AI at the forefront of the user experience, making it easier to get information and build workflows.\n",
      "\n",
      "It’s important to note that these are announcements, and many of these features are not available yet.\n",
      "\n",
      "Rob Seaman says that rather than slapping on an AI cover, they are working to incorporate it in a variety of ways across the platform. That started last month with a small step, a partnership with OpenAI to bring a ChatGPT app into Slack, the first piece of a much broader vision for AI on the platform. That part is in beta at the moment.\n"
     ]
    }
   ],
   "source": [
    "print(results[0].page_content)"
   ]
  },
  {
   "cell_type": "code",
   "execution_count": 32,
   "id": "5aafff69",
   "metadata": {},
   "outputs": [],
   "source": [
    "query = \"What the headlines at Wall Street Journal?\""
   ]
  },
  {
   "cell_type": "code",
   "execution_count": 33,
   "id": "29fe3d0f",
   "metadata": {},
   "outputs": [],
   "source": [
    "retriever = vectorstore.as_retriever(search_type=\"similarity\", search_kwargs={\"k\": 3})\n",
    "results = retriever.get_relevant_documents(query)"
   ]
  },
  {
   "cell_type": "code",
   "execution_count": 34,
   "id": "c68a8abb",
   "metadata": {},
   "outputs": [
    {
     "name": "stdout",
     "output_type": "stream",
     "text": [
      "Apple releases security fix: On Monday, Apple released its first batch of publicly available “rapid security” patches, aimed at quickly fixing security vulnerabilities that are under active exploitation or pose significant risks to its customers. Apple says that these patches, which are enabled by default, were intended to let customers update their devices faster than a typical software upgrade.\n",
      "\n",
      "Musk settles for less: A defamation case brought against Tesla chief executive Elon Musk by critic Randeep Hothi is coming to a close, reportedly costing the billionaire ten big ones. Lawyers representing Hothi — a vocal member of the TSLAQ short-seller community on Twitter who rose to prominence as a skeptic of Tesla’s gigafactory plans and “full self-driving” tech — said in a statement that Musk asked to settle the nearly three-year-old case back in March.\n"
     ]
    }
   ],
   "source": [
    "print(results[0].page_content)"
   ]
  },
  {
   "cell_type": "markdown",
   "id": "4315c8a7",
   "metadata": {},
   "source": [
    "A RetrievalQA chain connects:\n",
    "\n",
    "User query → Retriever (search relevant docs) → LLM (generate final answer)\n",
    "\n"
   ]
  },
  {
   "cell_type": "code",
   "execution_count": 43,
   "id": "0b29d6a3",
   "metadata": {},
   "outputs": [],
   "source": [
    "from langchain_core.outputs import LLMResult, Generation\n",
    "from langchain_core.language_models import BaseLLM\n",
    "from openai import OpenAI\n",
    "\n",
    "class OpenRouterLLM(BaseLLM):\n",
    "    model: str\n",
    "    api_key: str\n",
    "\n",
    "    @property\n",
    "    def _llm_type(self) -> str:\n",
    "        return \"openrouter\"\n",
    "\n",
    "    def _call(self, prompt: str, stop=None):\n",
    "        client = OpenAI(\n",
    "            base_url=\"https://openrouter.ai/api/v1\",\n",
    "            api_key=self.api_key\n",
    "        )\n",
    "        response = client.chat.completions.create(\n",
    "            model=self.model,\n",
    "            messages=[\n",
    "                {\n",
    "                    \"role\": \"user\",\n",
    "                    \"content\": prompt\n",
    "                }\n",
    "            ]\n",
    "        )\n",
    "        return response.choices[0].message.content\n",
    "\n",
    "    def _generate(self, prompts, stop=None, **kwargs):\n",
    "        generations = []\n",
    "        for prompt in prompts:\n",
    "            text = self._call(prompt, stop=stop)\n",
    "            generations.append([Generation(text=text)])\n",
    "        return LLMResult(generations=generations)"
   ]
  },
  {
   "cell_type": "code",
   "execution_count": 44,
   "id": "56c9883a",
   "metadata": {},
   "outputs": [],
   "source": [
    "#initializing the OpenRouterLLM\n",
    "llm = OpenRouterLLM(\n",
    "    model=\"deepseek/deepseek-r1:free\",\n",
    "    api_key=OPENROUTER_KEY\n",
    ")\n",
    "retriever = vectorstore.as_retriever()"
   ]
  },
  {
   "cell_type": "code",
   "execution_count": 45,
   "id": "16cb9131",
   "metadata": {},
   "outputs": [],
   "source": [
    "#setting up the RetrievalQA chain\n",
    "from langchain.chains import RetrievalQA\n",
    "\n",
    "qa_chain = RetrievalQA.from_chain_type(\n",
    "    llm=llm,\n",
    "    retriever=retriever,\n",
    "    chain_type=\"stuff\",\n",
    "    return_source_documents=True\n",
    ")\n"
   ]
  },
  {
   "cell_type": "code",
   "execution_count": null,
   "id": "c3b96a95",
   "metadata": {},
   "outputs": [
    {
     "name": "stdout",
     "output_type": "stream",
     "text": [
      "📌 Answer:\n",
      " Microsoft did not raise money; instead, Microsoft **invested** in OpenAI. According to the context, Microsoft's investment in OpenAI closed in January 2023 and was around **$10 billion**, separate from the VC investments totaling over $300 million made in April 2023. \n",
      "\n",
      "**Answer:** Microsoft invested approximately $10 billion in OpenAI.\n",
      "\n",
      "📚 Sources:\n",
      "- new_articles\\05-03-chatgpt-everything-you-need-to-know-about-the-ai-powered-chatbot.txt\n",
      "- new_articles\\05-06-this-week-in-apps-apple-and-google-team-up-on-trackers-google-i-o-preview-apps-hit-newfronts.txt\n",
      "- new_articles\\05-07-fintech-space-continues-to-be-competitive-and-drama-filled.txt\n",
      "- new_articles\\05-03-spawning-lays-out-its-plans-for-letting-creators-opt-out-of-generative-ai-training.txt\n"
     ]
    },
    {
     "ename": "",
     "evalue": "",
     "output_type": "error",
     "traceback": [
      "\u001b[1;31mThe Kernel crashed while executing code in the current cell or a previous cell. \n",
      "\u001b[1;31mPlease review the code in the cell(s) to identify a possible cause of the failure. \n",
      "\u001b[1;31mClick <a href='https://aka.ms/vscodeJupyterKernelCrash'>here</a> for more info. \n",
      "\u001b[1;31mView Jupyter <a href='command:jupyter.viewOutput'>log</a> for further details."
     ]
    }
   ],
   "source": [
    "query = \"How much money did Microsoft raise?\"\n",
    "response = qa_chain.invoke(query)\n",
    "\n",
    "print(\"📌 Answer:\\n\", response[\"result\"])\n",
    "\n",
    "print(\"\\n📚 Sources:\")\n",
    "for doc in response[\"source_documents\"]:\n",
    "    print(\"-\", doc.metadata.get(\"source\", \"Unknown\"))\n"
   ]
  }
 ],
 "metadata": {
  "kernelspec": {
   "display_name": "Python 3",
   "language": "python",
   "name": "python3"
  },
  "language_info": {
   "codemirror_mode": {
    "name": "ipython",
    "version": 3
   },
   "file_extension": ".py",
   "mimetype": "text/x-python",
   "name": "python",
   "nbconvert_exporter": "python",
   "pygments_lexer": "ipython3",
   "version": "3.11.9"
  }
 },
 "nbformat": 4,
 "nbformat_minor": 5
}
