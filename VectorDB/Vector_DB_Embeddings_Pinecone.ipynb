{
  "cells": [
    {
      "cell_type": "code",
      "execution_count": 1,
      "metadata": {
        "colab": {
          "base_uri": "https://localhost:8080/"
        },
        "id": "FwvopVX3cLds",
        "outputId": "78d9aa97-f284-4577-8608-e214dd02e645"
      },
      "outputs": [
        {
          "name": "stdout",
          "output_type": "stream",
          "text": [
            "Note: you may need to restart the kernel to use updated packages.\n"
          ]
        },
        {
          "name": "stderr",
          "output_type": "stream",
          "text": [
            "\n",
            "[notice] A new release of pip is available: 25.0.1 -> 25.1.1\n",
            "[notice] To update, run: C:\\Users\\anubh\\AppData\\Local\\Microsoft\\WindowsApps\\PythonSoftwareFoundation.Python.3.11_qbz5n2kfra8p0\\python.exe -m pip install --upgrade pip\n"
          ]
        }
      ],
      "source": [
        "%pip install langchain pypdf openai tiktoken pinecone langchain-nvidia-ai-endpoints -U -q"
      ]
    },
    {
      "cell_type": "code",
      "execution_count": 2,
      "metadata": {
        "colab": {
          "base_uri": "https://localhost:8080/"
        },
        "id": "6eb6bef6",
        "outputId": "33c748c2-9383-4030-c9fc-c313dcc9fbe7"
      },
      "outputs": [
        {
          "name": "stdout",
          "output_type": "stream",
          "text": [
            "Note: you may need to restart the kernel to use updated packages.\n"
          ]
        },
        {
          "name": "stderr",
          "output_type": "stream",
          "text": [
            "\n",
            "[notice] A new release of pip is available: 25.0.1 -> 25.1.1\n",
            "[notice] To update, run: C:\\Users\\anubh\\AppData\\Local\\Microsoft\\WindowsApps\\PythonSoftwareFoundation.Python.3.11_qbz5n2kfra8p0\\python.exe -m pip install --upgrade pip\n"
          ]
        }
      ],
      "source": [
        "%pip install -U langchain-community -q"
      ]
    },
    {
      "cell_type": "code",
      "execution_count": null,
      "metadata": {},
      "outputs": [],
      "source": [
        "# %pip install pinecone-client langchain-pinecone -U\n",
        "# %pip uninstall pinecone-client pinecone\n",
        "# %pip install pinecone"
      ]
    },
    {
      "cell_type": "code",
      "execution_count": 3,
      "metadata": {
        "id": "Ktr4m6_yShfF"
      },
      "outputs": [],
      "source": [
        "from langchain_nvidia_ai_endpoints import NVIDIAEmbeddings\n",
        "from langchain.document_loaders import PyPDFDirectoryLoader\n",
        "from langchain.text_splitter import RecursiveCharacterTextSplitter\n",
        "from langchain.embeddings import OpenAIEmbeddings\n",
        "from langchain.llms import OpenAI\n",
        "# from langchain.vectorstores import Pinecone\n",
        "from langchain.chains import RetrievalQA\n",
        "from langchain.prompts import PromptTemplate\n",
        "import os\n"
      ]
    },
    {
      "cell_type": "markdown",
      "metadata": {
        "id": "g4TCnF7hY6SN"
      },
      "source": [
        "#Loading the words/sentences"
      ]
    },
    {
      "cell_type": "code",
      "execution_count": 4,
      "metadata": {
        "colab": {
          "base_uri": "https://localhost:8080/"
        },
        "id": "nVIotkRcVhCu",
        "outputId": "c9de7ed2-db9c-4283-a13b-198a65c73482"
      },
      "outputs": [
        {
          "data": {
            "text/plain": [
              "Document(metadata={'producer': 'iText 2.0.8 (by lowagie.com)', 'creator': 'PyPDF', 'creationdate': '2024-11-02T22:24:12+00:00', 'moddate': '2024-11-02T22:24:12+00:00', 'source': 'pdfs\\\\invoice (1).pdf', 'total_pages': 1, 'page': 0, 'page_label': '1'}, page_content='Tax Invoice/Bill of Supply/Cash Memo\\n(Original for Recipient)\\n*ASSPL-Amazon Seller Services Pvt. Ltd., ARIPL-Amazon Retail India Pvt. Ltd. (only where Amazon Retail India Pvt. Ltd. fulfillment center is co-located) \\nCustomers desirous of availing input GST credit are requested to create a Business account and purchase on Amazon.in/business from Business eligible offers \\nPlease note that this invoice is not a demand for payment\\nPage 1 of 1\\nFor CLICKTECH RETAIL PRIVATE LIMITED:\\nAuthorized Signatory\\nOrder Number:404-2866309-6187566 Invoice Number :FCCB-112980\\nOrder Date:03.11.2024 Invoice Details :WB-FCCB-297683823-2425\\nInvoice Date :03.11.2024\\nSl.\\nNo Description Unit\\nPrice Qty Net\\nAmount\\nTax\\nRate\\nTax\\nType\\nTax\\nAmount\\nTotal\\nAmount\\n1 Mivi Play Bluetooth Speaker with 12 Hours Playtime. Wireless\\nSpeaker Made in India with Exceptional Sound Quality, Portable and\\nBuilt in Mic-Black | B094RCC4L1 ( B094RCC4L1 ) \\nHSN:85182100\\n₹677.12 1 ₹677.12 9% CGST ₹60.94 ₹799.00\\n9% SGST ₹60.94\\nTOTAL: ₹121.88₹799.00\\nAmount in Words:\\nSeven Hundred Ninety-nine only\\nWhether tax is payable under reverse charge - No\\nSold By :\\nCLICKTECH RETAIL PRIVATE LIMITED \\n*Govindapur, Benepukur, Kolkata, West Bengal\\n700143 \\nKOLKATA, WEST BENGAL, 700143 \\nIN \\nPAN No: AAJCC9783E \\nGST Registration No:19AAJCC9783E1Z4 \\n Dynamic QR Code:\\nBilling Address :\\nPushpita Biswas \\nFlat 207, Radiant Katriel, Seetharampalya, Hoodi\\nmain road \\nBENGALURU, KARNATAKA, 560048 \\nIN \\nState/UT Code:29 \\nShipping Address :\\nPushpita Biswas \\nAnkit Kumar Sinha \\n1st floor, flat D, Annapurna Bhawan,AG-188,\\nAG-188,Hana para road, Hanapara, Keshtopur \\nKOLKATA, WEST BENGAL, 700102 \\nIN \\nState/UT Code:19 \\nPlace of supply:WEST BENGAL \\nPlace of delivery:WEST BENGAL')"
            ]
          },
          "execution_count": 4,
          "metadata": {},
          "output_type": "execute_result"
        }
      ],
      "source": [
        "loader = PyPDFDirectoryLoader(\"pdfs\")\n",
        "data = loader.load()\n",
        "data[0]"
      ]
    },
    {
      "cell_type": "markdown",
      "metadata": {
        "id": "BcPg7ggGY4DI"
      },
      "source": [
        "#Tokenzation"
      ]
    },
    {
      "cell_type": "code",
      "execution_count": 5,
      "metadata": {
        "colab": {
          "base_uri": "https://localhost:8080/"
        },
        "id": "sHi1X480ZC_x",
        "outputId": "b988d610-9e7f-4c72-9557-43a0ebe1797d"
      },
      "outputs": [
        {
          "name": "stdout",
          "output_type": "stream",
          "text": [
            "Chunk 0: Tax Invoice/Bill of Supply/Cash Memo\n",
            "(Original for Recipient)\n",
            "*ASSPL-Amazon Seller Services Pvt. Ltd., ARIPL-Amazon Retail India Pvt. Ltd. (only where Amazon Retail India Pvt. Ltd. fulfillment center ...\n",
            "Chunk 1: Authorized Signatory\n",
            "Order Number:404-2866309-6187566 Invoice Number :FCCB-112980\n",
            "Order Date:03.11.2024 Invoice Details :WB-FCCB-297683823-2425\n",
            "Invoice Date :03.11.2024\n",
            "Sl.\n",
            "No Description Unit\n",
            "Price Q...\n",
            "Chunk 2: 9% SGST ₹60.94\n",
            "TOTAL: ₹121.88₹799.00\n",
            "Amount in Words:\n",
            "Seven Hundred Ninety-nine only\n",
            "Whether tax is payable under reverse charge - No\n",
            "Sold By :\n",
            "CLICKTECH RETAIL PRIVATE LIMITED \n",
            "*Govindapur, Benepukur...\n",
            "Chunk 3: Shipping Address :\n",
            "Pushpita Biswas \n",
            "Ankit Kumar Sinha \n",
            "1st floor, flat D, Annapurna Bhawan,AG-188,\n",
            "AG-188,Hana para road, Hanapara, Keshtopur \n",
            "KOLKATA, WEST BENGAL, 700102 \n",
            "IN \n",
            "State/UT Code:19 \n",
            "Place...\n"
          ]
        }
      ],
      "source": [
        "\"\"\"\n",
        "This object is used to split a large text into smaller chunks(tokenization).\n",
        "1. chunk_size=500: This parameter sets the maximum number of characters in each chunk to 500.\n",
        "2. chunk_overlap=0: This parameter sets the number of characters that overlap between consecutive chunks to 0. This means the chunks will not have any overlapping text.\n",
        "\"\"\"\n",
        "text_spiltter = RecursiveCharacterTextSplitter(chunk_size=500, chunk_overlap=0)\n",
        "text_chunks = text_spiltter.split_documents(data)\n",
        "# Access the page_content of each document in the list\n",
        "for i, chunk in enumerate(text_chunks):\n",
        "    print(f\"Chunk {i}: {chunk.page_content[:200]}...\") # Print first 200 characters of each chunk\n",
        "\n",
        "# text_chunks[0].page_content"
      ]
    },
    {
      "cell_type": "code",
      "execution_count": 6,
      "metadata": {},
      "outputs": [
        {
          "data": {
            "text/plain": [
              "True"
            ]
          },
          "execution_count": 6,
          "metadata": {},
          "output_type": "execute_result"
        }
      ],
      "source": [
        "from dotenv import load_dotenv\n",
        "load_dotenv()"
      ]
    },
    {
      "cell_type": "code",
      "execution_count": 7,
      "metadata": {},
      "outputs": [],
      "source": [
        "OPENAI_KEY = os.getenv(\"OPENAI_API_KEY\")\n",
        "PINECONE_KEY = os.getenv(\"PINECONE_API_KEY\")\n",
        "NVIDIA_KEY = os.getenv(\"NVIDIA_API_KEY\")\n",
        "PINECONE_ENV = os.getenv(\"PINECONE_API_ENV\")\n",
        "NVIDIA_KEY = os.getenv(\"NVIDIA_API_KEY\")"
      ]
    },
    {
      "cell_type": "markdown",
      "metadata": {},
      "source": [
        "We will use nvidia api key becoz thats free and openai is not`"
      ]
    },
    {
      "cell_type": "code",
      "execution_count": 8,
      "metadata": {},
      "outputs": [
        {
          "data": {
            "text/plain": [
              "1024"
            ]
          },
          "execution_count": 8,
          "metadata": {},
          "output_type": "execute_result"
        }
      ],
      "source": [
        "\n",
        "embeddings = NVIDIAEmbeddings(\n",
        "  model=\"NV-Embed-QA\", \n",
        "  api_key=NVIDIA_KEY, \n",
        "  truncate=\"NONE\", \n",
        "  )\n",
        "\n",
        "embed = embeddings.embed_query(\"Ayo , how are you doing?\")\n",
        "len(embed)\n"
      ]
    },
    {
      "cell_type": "markdown",
      "metadata": {},
      "source": [
        "Getting the vectors from this api and store them in the pinecone DB"
      ]
    },
    {
      "cell_type": "code",
      "execution_count": 9,
      "metadata": {},
      "outputs": [],
      "source": [
        "index_name = \"anubhav\""
      ]
    },
    {
      "cell_type": "code",
      "execution_count": 10,
      "metadata": {},
      "outputs": [
        {
          "ename": "Exception",
          "evalue": "The official Pinecone python package has been renamed from `pinecone-client` to `pinecone`. Please remove `pinecone-client` from your project dependencies and add `pinecone` instead. See the README at https://github.com/pinecone-io/pinecone-python-client for more information on using the python SDK.",
          "output_type": "error",
          "traceback": [
            "\u001b[31m---------------------------------------------------------------------------\u001b[39m",
            "\u001b[31mException\u001b[39m                                 Traceback (most recent call last)",
            "\u001b[36mCell\u001b[39m\u001b[36m \u001b[39m\u001b[32mIn[10]\u001b[39m\u001b[32m, line 2\u001b[39m\n\u001b[32m      1\u001b[39m \u001b[38;5;66;03m#initializing pinecone\u001b[39;00m\n\u001b[32m----> \u001b[39m\u001b[32m2\u001b[39m \u001b[38;5;28;01mfrom\u001b[39;00m\u001b[38;5;250m \u001b[39m\u001b[34;01mpinecone\u001b[39;00m\u001b[38;5;250m \u001b[39m\u001b[38;5;28;01mimport\u001b[39;00m Pinecone\n\u001b[32m      3\u001b[39m \u001b[38;5;66;03m# pc = Pinecone(\u001b[39;00m\n\u001b[32m      4\u001b[39m \u001b[38;5;66;03m#     api_key=PINECONE_KEY\u001b[39;00m\n\u001b[32m      5\u001b[39m \u001b[38;5;66;03m# )\u001b[39;00m\n\u001b[32m      7\u001b[39m pc = Pinecone(api_key=PINECONE_KEY)\n",
            "\u001b[36mFile \u001b[39m\u001b[32m~\\AppData\\Local\\Packages\\PythonSoftwareFoundation.Python.3.11_qbz5n2kfra8p0\\LocalCache\\local-packages\\Python311\\site-packages\\pinecone\\__init__.py:5\u001b[39m\n\u001b[32m      1\u001b[39m \u001b[33;03m\"\"\"\u001b[39;00m\n\u001b[32m      2\u001b[39m \u001b[33;03m.. include:: ../README.md\u001b[39;00m\n\u001b[32m      3\u001b[39m \u001b[33;03m\"\"\"\u001b[39;00m\n\u001b[32m----> \u001b[39m\u001b[32m5\u001b[39m \u001b[38;5;28;01mraise\u001b[39;00m \u001b[38;5;167;01mException\u001b[39;00m(\n\u001b[32m      6\u001b[39m     \u001b[33m\"\u001b[39m\u001b[33mThe official Pinecone python package has been renamed from `pinecone-client` to `pinecone`. Please remove `pinecone-client` from your project dependencies and add `pinecone` instead. See the README at https://github.com/pinecone-io/pinecone-python-client for more information on using the python SDK.\u001b[39m\u001b[33m\"\u001b[39m\n\u001b[32m      7\u001b[39m )\n",
            "\u001b[31mException\u001b[39m: The official Pinecone python package has been renamed from `pinecone-client` to `pinecone`. Please remove `pinecone-client` from your project dependencies and add `pinecone` instead. See the README at https://github.com/pinecone-io/pinecone-python-client for more information on using the python SDK."
          ]
        }
      ],
      "source": [
        "#initializing pinecone\n",
        "from pinecone import Pinecone\n",
        "# pc = Pinecone(\n",
        "#     api_key=PINECONE_KEY\n",
        "# )\n",
        "\n",
        "pc = Pinecone(api_key=PINECONE_KEY)\n",
        "index = pc.Index(index_name)"
      ]
    },
    {
      "cell_type": "markdown",
      "metadata": {},
      "source": [
        "Create the embeddings for each of the text chunks"
      ]
    },
    {
      "cell_type": "code",
      "execution_count": null,
      "metadata": {},
      "outputs": [],
      "source": [
        "from langchain_pinecone import PineconeVectorStore\n",
        "\n",
        "vector_store = PineconeVectorStore.from_texts(\n",
        "    [chunk.page_content for chunk in text_chunks],\n",
        "    embeddings,\n",
        "    index_name=index_name\n",
        ")\n",
        "vector_store"
      ]
    },
    {
      "cell_type": "code",
      "execution_count": null,
      "metadata": {},
      "outputs": [],
      "source": [
        "#similarity search\n",
        "query = \"Pushpita Biswas is my sister\"\n",
        "docs = vector_store.similarity_search(query)"
      ]
    },
    {
      "cell_type": "code",
      "execution_count": null,
      "metadata": {},
      "outputs": [],
      "source": [
        "print(docs[0].page_content)"
      ]
    },
    {
      "cell_type": "code",
      "execution_count": null,
      "metadata": {},
      "outputs": [],
      "source": [
        "from langchain_nvidia_ai_endpoints import ChatNVIDIA\n",
        "\n",
        "client = ChatNVIDIA(\n",
        "  model=\"deepseek-ai/deepseek-r1\",\n",
        "  api_key=NVIDIA_KEY, \n",
        "  temperature=0.6,\n",
        "  top_p=0.7,\n",
        "  max_tokens=4096,\n",
        ")\n",
        "\n",
        "response = client.invoke([{\"role\":\"user\",\"content\":\"Hello\"}])\n",
        "print(response.content)"
      ]
    }
  ],
  "metadata": {
    "colab": {
      "provenance": []
    },
    "kernelspec": {
      "display_name": "Python 3",
      "name": "python3"
    },
    "language_info": {
      "codemirror_mode": {
        "name": "ipython",
        "version": 3
      },
      "file_extension": ".py",
      "mimetype": "text/x-python",
      "name": "python",
      "nbconvert_exporter": "python",
      "pygments_lexer": "ipython3",
      "version": "3.11.9"
    }
  },
  "nbformat": 4,
  "nbformat_minor": 0
}
